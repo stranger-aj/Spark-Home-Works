{
  "nbformat": 4,
  "nbformat_minor": 0,
  "metadata": {
    "colab": {
      "provenance": [],
      "gpuType": "T4"
    },
    "kernelspec": {
      "name": "python3",
      "display_name": "Python 3"
    },
    "language_info": {
      "name": "python"
    },
    "accelerator": "GPU"
  },
  "cells": [
    {
      "cell_type": "markdown",
      "source": [
        "# Условие:\n",
        "есть набор данных о продажах продуктов с информацией о дате продаж, категории продукта, количестве и выручке от продаж.\n",
        "\n",
        "Используя Apache Spark, загрузите предоставленный набор данных в DataFrame (пример данных ниже).\n",
        "\n",
        "(\"2023-11-20\", \"Electronics\", 100, 12000),\n",
        "(\"2023-11-21\", \"Electronics\", 110, 13000),\n",
        "(\"2023-11-22\", \"Electronics\", 105, 12500),\n",
        "(\"2023-11-20\", \"Clothing\", 300, 15000),\n",
        "(\"2023-11-21\", \"Clothing\", 280, 14000),\n",
        "(\"2023-11-22\", \"Clothing\", 320, 16000),\n",
        "(\"2023-11-20\", \"Books\", 150, 9000),\n",
        "(\"2023-11-21\", \"Books\", 200, 12000),\n",
        "(\"2023-11-22\", \"Books\", 180, 10000)\n",
        "\n",
        "Столбцы: \"date\", \"category\", \"quantity\", \"revenue\".\n",
        "\n",
        "С использованием оконных функций, рассчитайте среднее выручки от продаж для каждой категории продукта.\n",
        "Примените операцию pivot для того, чтобы преобразовать полученные данные таким образом, чтобы в качестве строк были категории продуктов, в качестве столбцов были дни, а значениями были средние значения выручки от продаж за соответствующий день"
      ],
      "metadata": {
        "id": "W1tRpgcRuuy_"
      }
    },
    {
      "cell_type": "code",
      "execution_count": 17,
      "metadata": {
        "id": "rkoPxqD_uku2"
      },
      "outputs": [],
      "source": [
        "from pyspark.sql import SparkSession\n",
        "from pyspark.sql.window import Window\n",
        "from pyspark.sql.functions import avg\n",
        "import pyspark.sql.functions as F\n",
        "\n",
        "spark = SparkSession.builder.appName(\"home_work\").getOrCreate()\n",
        "\n",
        "# Загрузка исходных данных\n",
        "data = [(\"2023-11-20\", \"Electronics\", 100, 12000),\n",
        "      (\"2023-11-21\", \"Electronics\", 110, 13000),\n",
        "      (\"2023-11-22\", \"Electronics\", 105, 12500),\n",
        "      (\"2023-11-20\", \"Clothing\", 300, 15000),\n",
        "      (\"2023-11-21\", \"Clothing\", 280, 14000),\n",
        "      (\"2023-11-22\", \"Clothing\", 320, 16000),\n",
        "      (\"2023-11-20\", \"Books\", 150, 9000),\n",
        "      (\"2023-11-21\", \"Books\", 200, 12000),\n",
        "      (\"2023-11-22\", \"Books\", 180, 10000)]\n"
      ]
    },
    {
      "cell_type": "code",
      "source": [
        "# создание датафрейма\n",
        "df = spark.createDataFrame(data, [\"date\", \"category\", \"quantity\", \"revenue\"])"
      ],
      "metadata": {
        "id": "Vyfakv2cw0kY"
      },
      "execution_count": 18,
      "outputs": []
    },
    {
      "cell_type": "code",
      "source": [
        "# рассчет средней выручки от продаж для каждой категории продукта с использованием оконной функции\n",
        "revWindow = Window.partitionBy(\"category\")\n",
        "# добавление столбца со средними значениями продаж для каждой категории\n",
        "df2 = df.withColumn(\"average_revenue\", avg(\"revenue\").over(revWindow))\n",
        "df2.show()"
      ],
      "metadata": {
        "colab": {
          "base_uri": "https://localhost:8080/"
        },
        "id": "-R_qqoc-xSJm",
        "outputId": "df5c3e33-47e1-4df0-ed5b-05dfccaca05c"
      },
      "execution_count": 21,
      "outputs": [
        {
          "output_type": "stream",
          "name": "stdout",
          "text": [
            "+----------+-----------+--------+-------+------------------+\n",
            "|      date|   category|quantity|revenue|   average_revenue|\n",
            "+----------+-----------+--------+-------+------------------+\n",
            "|2023-11-20|      Books|     150|   9000|10333.333333333334|\n",
            "|2023-11-21|      Books|     200|  12000|10333.333333333334|\n",
            "|2023-11-22|      Books|     180|  10000|10333.333333333334|\n",
            "|2023-11-20|   Clothing|     300|  15000|           15000.0|\n",
            "|2023-11-21|   Clothing|     280|  14000|           15000.0|\n",
            "|2023-11-22|   Clothing|     320|  16000|           15000.0|\n",
            "|2023-11-20|Electronics|     100|  12000|           12500.0|\n",
            "|2023-11-21|Electronics|     110|  13000|           12500.0|\n",
            "|2023-11-22|Electronics|     105|  12500|           12500.0|\n",
            "+----------+-----------+--------+-------+------------------+\n",
            "\n"
          ]
        }
      ]
    },
    {
      "cell_type": "code",
      "source": [
        "# применение операции pivot к исходной таблице\n",
        "# в качестве строк категории, в качестве столбцов дни, в качестве значений выручка\n",
        "pivot_df = df.groupBy(\"category\").pivot(\"date\").agg(F.avg(\"revenue\"))\n",
        "pivot_df.show()"
      ],
      "metadata": {
        "colab": {
          "base_uri": "https://localhost:8080/"
        },
        "id": "zLTmJGYd2GzX",
        "outputId": "0a649a2f-314f-4252-85e7-f8fce5f26757"
      },
      "execution_count": 23,
      "outputs": [
        {
          "output_type": "stream",
          "name": "stdout",
          "text": [
            "+-----------+----------+----------+----------+\n",
            "|   category|2023-11-20|2023-11-21|2023-11-22|\n",
            "+-----------+----------+----------+----------+\n",
            "|Electronics|   12000.0|   13000.0|   12500.0|\n",
            "|   Clothing|   15000.0|   14000.0|   16000.0|\n",
            "|      Books|    9000.0|   12000.0|   10000.0|\n",
            "+-----------+----------+----------+----------+\n",
            "\n"
          ]
        }
      ]
    }
  ]
}