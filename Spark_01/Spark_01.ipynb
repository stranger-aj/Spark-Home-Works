{
  "nbformat": 4,
  "nbformat_minor": 0,
  "metadata": {
    "colab": {
      "provenance": []
    },
    "kernelspec": {
      "name": "python3",
      "display_name": "Python 3"
    },
    "language_info": {
      "name": "python"
    }
  },
  "cells": [
    {
      "cell_type": "code",
      "execution_count": 1,
      "metadata": {
        "id": "gXZ_nZOt6QBA"
      },
      "outputs": [],
      "source": [
        "import pyspark\n",
        "from pyspark import SparkContext\n",
        "from pyspark.sql import SparkSession"
      ]
    },
    {
      "cell_type": "code",
      "source": [
        "# исходные данные\n",
        "data = [34, 45, 6, 8, 11, 15, 27, 55, 67, 3, 45, 76, -111, 45, 5, 5, 7, 7, 11, 12]"
      ],
      "metadata": {
        "id": "1uSjIPzO6bLg"
      },
      "execution_count": 2,
      "outputs": []
    },
    {
      "cell_type": "code",
      "source": [
        "# функция формирующая последовательности из исходных числовых данных\n",
        "def func(data_list):\n",
        "    temp = data_list[0]\n",
        "    subs = [data_list[0]]\n",
        "    result = []\n",
        "    for i in data_list[1:]:\n",
        "        if i < temp:\n",
        "            result.append(subs)\n",
        "            subs = [i]\n",
        "        else:\n",
        "            subs.append(i)\n",
        "        temp = i\n",
        "    if subs:\n",
        "        result.append(subs)\n",
        "    return result"
      ],
      "metadata": {
        "id": "2kQgh5so6hpY"
      },
      "execution_count": 3,
      "outputs": []
    },
    {
      "cell_type": "code",
      "source": [
        "# открытие сессии, создание RDD и вычисления\n",
        "sc = SparkContext(\"local\", \"longest_num_sequence\")\n",
        "rdd = sc.parallelize(func(data))\n",
        "result = rdd.max(key=lambda x: len(x))\n",
        "result"
      ],
      "metadata": {
        "colab": {
          "base_uri": "https://localhost:8080/"
        },
        "id": "p3Ykv2TW6pgw",
        "outputId": "69ff1fc6-7023-434d-ebcd-cf78bafc1a91"
      },
      "execution_count": 6,
      "outputs": [
        {
          "output_type": "execute_result",
          "data": {
            "text/plain": [
              "[6, 8, 11, 15, 27, 55, 67]"
            ]
          },
          "metadata": {},
          "execution_count": 6
        }
      ]
    },
    {
      "cell_type": "code",
      "source": [
        "sc.stop()"
      ],
      "metadata": {
        "id": "I2GANKtS7bWJ"
      },
      "execution_count": 5,
      "outputs": []
    }
  ]
}