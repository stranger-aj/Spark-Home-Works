{
  "nbformat": 4,
  "nbformat_minor": 0,
  "metadata": {
    "colab": {
      "provenance": []
    },
    "kernelspec": {
      "name": "python3",
      "display_name": "Python 3"
    },
    "language_info": {
      "name": "python"
    }
  },
  "cells": [
    {
      "cell_type": "code",
      "execution_count": 1,
      "metadata": {
        "id": "jXce3Pg2ZAre"
      },
      "outputs": [],
      "source": [
        "# Условие: создайте csv файл с таким содержимым:\n",
        "\n",
        "# title,author,genre,sales,year\n",
        "# \"1984\", \"George Orwell\", \"Science Fiction\", 5000, 1949\n",
        "# \"The Lord of the Rings\", \"J.R.R. Tolkien\", \"Fantasy\", 3000, 1954\n",
        "# \"To Kill a Mockingbird\", \"Harper Lee\", \"Southern Gothic\", 4000, 1960\n",
        "# \"The Catcher in the Rye\", \"J.D. Salinger\", \"Novel\", 2000, 1951\n",
        "# \"The Great Gatsby\", \"F. Scott Fitzgerald\", \"Novel\", 4500, 1925\n",
        "\n",
        "# Задание:\n",
        "\n",
        "# — Используя Spark прочитайте данные из файла csv.\n",
        "# — Фильтруйте данные, чтобы оставить только книги, продажи которых превышают 3000 экземпляров.\n",
        "# — Сгруппируйте данные по жанру и вычислите общий объем продаж для каждого жанра.\n",
        "# — Отсортируйте данные по общему объему продаж в порядке убывания.\n",
        "# — Выведите результаты на экран."
      ]
    },
    {
      "cell_type": "code",
      "source": [
        "import pyspark\n",
        "from pyspark.sql import SparkSession\n",
        "\n",
        "spark = SparkSession.builder.appName('Practise').getOrCreate()"
      ],
      "metadata": {
        "id": "ecgWNkvOZZjb"
      },
      "execution_count": 2,
      "outputs": []
    },
    {
      "cell_type": "code",
      "source": [
        "data=[(\"1984\", \"George Orwell\", \"Science Fiction\", 5000, 1949),\n",
        "(\"The Lord of the Rings\", \"J.R.R. Tolkien\", \"Fantasy\", 3000, 1954),\n",
        "(\"To Kill a Mockingbird\", \"Harper Lee\", \"Southern Gothic\", 4000, 1960),\n",
        "(\"The Catcher in the Rye\", \"J.D. Salinger\", \"Novel\", 2000, 1951),\n",
        "(\"The Great Gatsby\", \"F. Scott Fitzgerald\", \"Novel\", 4500, 1925)\n",
        "]\n",
        "columns = [\"title\", \"author\", \"genre\", \"sales\", \"year\"]"
      ],
      "metadata": {
        "id": "fcPLua_rZcHS"
      },
      "execution_count": 3,
      "outputs": []
    },
    {
      "cell_type": "code",
      "source": [
        "# создание датафрейма\n",
        "df = spark.createDataFrame(data, columns)"
      ],
      "metadata": {
        "id": "QpfY9AECZew4"
      },
      "execution_count": 4,
      "outputs": []
    },
    {
      "cell_type": "code",
      "source": [
        "df.show()"
      ],
      "metadata": {
        "colab": {
          "base_uri": "https://localhost:8080/"
        },
        "id": "6DJq6i4LZ0w5",
        "outputId": "1b012a8c-fd92-419d-a866-e3435f25e345"
      },
      "execution_count": 5,
      "outputs": [
        {
          "output_type": "stream",
          "name": "stdout",
          "text": [
            "+--------------------+-------------------+---------------+-----+----+\n",
            "|               title|             author|          genre|sales|year|\n",
            "+--------------------+-------------------+---------------+-----+----+\n",
            "|                1984|      George Orwell|Science Fiction| 5000|1949|\n",
            "|The Lord of the R...|     J.R.R. Tolkien|        Fantasy| 3000|1954|\n",
            "|To Kill a Mocking...|         Harper Lee|Southern Gothic| 4000|1960|\n",
            "|The Catcher in th...|      J.D. Salinger|          Novel| 2000|1951|\n",
            "|    The Great Gatsby|F. Scott Fitzgerald|          Novel| 4500|1925|\n",
            "+--------------------+-------------------+---------------+-----+----+\n",
            "\n"
          ]
        }
      ]
    },
    {
      "cell_type": "code",
      "source": [
        "# создание файла с целевым содержимым\n",
        "df.write.csv(\"./file.csv\", header=True)"
      ],
      "metadata": {
        "id": "UqtE9f7WZ-ph"
      },
      "execution_count": 6,
      "outputs": []
    },
    {
      "cell_type": "code",
      "source": [
        "# чтение данных из файла csv.\n",
        "df_pyspark = spark.read.load('file.csv', format=\"csv\", sep=\",\", header=\"true\", Infer_schema=True)"
      ],
      "metadata": {
        "id": "EPxetbf_ayUz"
      },
      "execution_count": 7,
      "outputs": []
    },
    {
      "cell_type": "code",
      "source": [
        "df_pyspark.show()"
      ],
      "metadata": {
        "colab": {
          "base_uri": "https://localhost:8080/"
        },
        "id": "8vI2fNZPbK-i",
        "outputId": "6da8b57e-730f-4f3c-a97f-de994e195b35"
      },
      "execution_count": 8,
      "outputs": [
        {
          "output_type": "stream",
          "name": "stdout",
          "text": [
            "+--------------------+-------------------+---------------+-----+----+\n",
            "|               title|             author|          genre|sales|year|\n",
            "+--------------------+-------------------+---------------+-----+----+\n",
            "|To Kill a Mocking...|         Harper Lee|Southern Gothic| 4000|1960|\n",
            "|The Catcher in th...|      J.D. Salinger|          Novel| 2000|1951|\n",
            "|    The Great Gatsby|F. Scott Fitzgerald|          Novel| 4500|1925|\n",
            "|                1984|      George Orwell|Science Fiction| 5000|1949|\n",
            "|The Lord of the R...|     J.R.R. Tolkien|        Fantasy| 3000|1954|\n",
            "+--------------------+-------------------+---------------+-----+----+\n",
            "\n"
          ]
        }
      ]
    },
    {
      "cell_type": "code",
      "source": [
        "# — Фильтруйте данные, чтобы оставить только книги, продажи которых превышают 3000 экземпляров\n",
        "from pyspark.sql.functions import col, sum as sum_sp\n",
        "df_filter = df_pyspark.filter(col(\"sales\") > 3000)\n",
        "df_filter.show()"
      ],
      "metadata": {
        "colab": {
          "base_uri": "https://localhost:8080/"
        },
        "id": "YAM2pilpblfz",
        "outputId": "1c956c91-f913-4538-c7f3-3ccb6c8a45e5"
      },
      "execution_count": 9,
      "outputs": [
        {
          "output_type": "stream",
          "name": "stdout",
          "text": [
            "+--------------------+-------------------+---------------+-----+----+\n",
            "|               title|             author|          genre|sales|year|\n",
            "+--------------------+-------------------+---------------+-----+----+\n",
            "|To Kill a Mocking...|         Harper Lee|Southern Gothic| 4000|1960|\n",
            "|    The Great Gatsby|F. Scott Fitzgerald|          Novel| 4500|1925|\n",
            "|                1984|      George Orwell|Science Fiction| 5000|1949|\n",
            "+--------------------+-------------------+---------------+-----+----+\n",
            "\n"
          ]
        }
      ]
    },
    {
      "cell_type": "code",
      "source": [
        "# — меняем тип данных в sales на int\n",
        "df_pyspark = df_pyspark.withColumn(\"sales\", df_pyspark[\"sales\"].cast('int'))\n",
        "df_pyspark"
      ],
      "metadata": {
        "colab": {
          "base_uri": "https://localhost:8080/"
        },
        "id": "nARWYKwgdR-r",
        "outputId": "96c958e9-115d-4cd4-defc-f9b1cf61c11d"
      },
      "execution_count": 10,
      "outputs": [
        {
          "output_type": "execute_result",
          "data": {
            "text/plain": [
              "DataFrame[title: string, author: string, genre: string, sales: int, year: string]"
            ]
          },
          "metadata": {},
          "execution_count": 10
        }
      ]
    },
    {
      "cell_type": "code",
      "source": [
        "# — Сгруппируйте данные по жанру и вычислите общий объем продаж для каждого жанра\n",
        "df_group = df_pyspark.groupBy(\"genre\").agg(sum_sp(\"sales\"))\n",
        "df_group.show()"
      ],
      "metadata": {
        "colab": {
          "base_uri": "https://localhost:8080/"
        },
        "id": "bchyNDc-eVVD",
        "outputId": "9a72ffb7-3019-4201-828c-507a78081cd8"
      },
      "execution_count": 14,
      "outputs": [
        {
          "output_type": "stream",
          "name": "stdout",
          "text": [
            "+---------------+----------+\n",
            "|          genre|sum(sales)|\n",
            "+---------------+----------+\n",
            "|Southern Gothic|      4000|\n",
            "|          Novel|      6500|\n",
            "|        Fantasy|      3000|\n",
            "|Science Fiction|      5000|\n",
            "+---------------+----------+\n",
            "\n"
          ]
        }
      ]
    },
    {
      "cell_type": "code",
      "source": [
        "# — Отсортируйте данные по общему объему продаж в порядке убывания.\n",
        "# — Выведите результаты на экран.\n",
        "df_group.orderBy(col('sum(sales)').desc()).show()"
      ],
      "metadata": {
        "colab": {
          "base_uri": "https://localhost:8080/"
        },
        "id": "0jh2HTDmgpF8",
        "outputId": "d555b48c-13da-415c-f56c-ded66c21b4f1"
      },
      "execution_count": 15,
      "outputs": [
        {
          "output_type": "stream",
          "name": "stdout",
          "text": [
            "+---------------+----------+\n",
            "|          genre|sum(sales)|\n",
            "+---------------+----------+\n",
            "|          Novel|      6500|\n",
            "|Science Fiction|      5000|\n",
            "|Southern Gothic|      4000|\n",
            "|        Fantasy|      3000|\n",
            "+---------------+----------+\n",
            "\n"
          ]
        }
      ]
    }
  ]
}